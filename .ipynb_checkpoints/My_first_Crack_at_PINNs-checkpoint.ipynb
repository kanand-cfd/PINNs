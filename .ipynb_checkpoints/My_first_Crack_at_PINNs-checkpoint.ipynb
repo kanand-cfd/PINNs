{
 "cells": [
  {
   "cell_type": "markdown",
   "id": "4d3f4b90-d13b-456b-a9e6-32477609edbf",
   "metadata": {},
   "source": [
    "# Architecture of a Physics Informed Neural Network"
   ]
  },
  {
   "cell_type": "markdown",
   "id": "5bbf121d-8bdd-4efb-869a-de4b1c16b081",
   "metadata": {},
   "source": [
    "The idea of neural networks as universal approximators is widely accepted now. Physics Informed Neural Networks (or PINNs) leverage domain knowledge to overcome the issue of imbalanced data & data shortage commonly encountered for a generic neural network."
   ]
  },
  {
   "cell_type": "code",
   "execution_count": null,
   "id": "1b3c722c-8a1d-4601-aee0-fed8319c7c26",
   "metadata": {},
   "outputs": [],
   "source": []
  }
 ],
 "metadata": {
  "kernelspec": {
   "display_name": "Python 3.10 (tensorflow)",
   "language": "python",
   "name": "tensorflow"
  },
  "language_info": {
   "codemirror_mode": {
    "name": "ipython",
    "version": 3
   },
   "file_extension": ".py",
   "mimetype": "text/x-python",
   "name": "python",
   "nbconvert_exporter": "python",
   "pygments_lexer": "ipython3",
   "version": "3.10.12"
  }
 },
 "nbformat": 4,
 "nbformat_minor": 5
}
